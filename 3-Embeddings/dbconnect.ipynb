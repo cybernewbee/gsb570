{
 "cells": [
  {
   "cell_type": "code",
   "execution_count": 3,
   "id": "f838d145",
   "metadata": {},
   "outputs": [],
   "source": [
    "import psycopg2\n",
    "import os\n",
    "from psycopg2 import OperationalError\n",
    "from dotenv import load_dotenv\n",
    "\n",
    "load_dotenv(load_dotenv(\"/Users/marvinlee/Documents/vs_code/gsb_570/project/week3/.env\"))\n",
    "\n",
    "db_name = os.getenv('DBNAME')\n",
    "db_user =  os.getenv('DBUSER')\n",
    "db_password = os.getenv('PASSWORD')\n",
    "db_host = os.getenv('HOST')\n",
    "db_port = \"5432\"\n",
    "\n",
    "def open_connection_to_db():\n",
    "    # surround with try catch   \n",
    "    try:\n",
    "        conn = psycopg2.connect(\n",
    "            dbname=db_name,\n",
    "            user=db_user,\n",
    "            password=db_password,\n",
    "            host=db_host,\n",
    "            port=db_port\n",
    "        )\n",
    "    except OperationalError as e:\n",
    "        print(f\"Error connecting to database: {e}\")\n",
    "        conn = None \n",
    "\n",
    "    return conn\n",
    "\n",
    "def get_db_attributes():\n",
    "    print(db_name, db_user, db_password, db_host, db_port)\n",
    "\n",
    "def test_connection(conn):\n",
    "    try:\n",
    "        cur = conn.cursor()\n",
    "        cur.execute(\"SELECT 1\")\n",
    "        print(\"Connection successful\")\n",
    "    except OperationalError as e:\n",
    "        print(f\"Error executing query: {e}\")\n",
    "    finally:\n",
    "        if cur:\n",
    "            cur.close()\n",
    "\n",
    "def check_env():\n",
    "    print(os.getenv('DBNAME'))\n",
    "    print(os.getenv('DBUSER'))\n",
    "    print(os.getenv('PASSWORD'))\n",
    "    print(os.getenv('HOST'))\n",
    "    print(os.getenv('PORT'))\n",
    "    "
   ]
  },
  {
   "cell_type": "code",
   "execution_count": 4,
   "id": "928d9b8f",
   "metadata": {},
   "outputs": [
    {
     "name": "stdout",
     "output_type": "stream",
     "text": [
      "postgres\n",
      "postgres\n",
      "xowjiz-huwKe0-pysbot\n",
      "gsb570-instance-1.cfrzn1oim1as.us-west-2.rds.amazonaws.com\n",
      "5432\n"
     ]
    }
   ],
   "source": [
    "check_env()"
   ]
  },
  {
   "cell_type": "code",
   "execution_count": 5,
   "id": "793646c2",
   "metadata": {},
   "outputs": [
    {
     "name": "stdout",
     "output_type": "stream",
     "text": [
      "Error connecting to database: connection to server at \"gsb570-instance-1.cfrzn1oim1as.us-west-2.rds.amazonaws.com\" (44.246.111.77), port 5432 failed: Operation timed out\n",
      "\tIs the server running on that host and accepting TCP/IP connections?\n",
      "\n"
     ]
    },
    {
     "ename": "UnboundLocalError",
     "evalue": "cannot access local variable 'cur' where it is not associated with a value",
     "output_type": "error",
     "traceback": [
      "\u001b[31m---------------------------------------------------------------------------\u001b[39m",
      "\u001b[31mAttributeError\u001b[39m                            Traceback (most recent call last)",
      "\u001b[36mFile \u001b[39m\u001b[32m~/Documents/vs_code/gsb_570/gsb570/3-Embeddings/dbconnection.py:35\u001b[39m, in \u001b[36mtest_connection\u001b[39m\u001b[34m(conn)\u001b[39m\n\u001b[32m     34\u001b[39m \u001b[38;5;28;01mtry\u001b[39;00m:\n\u001b[32m---> \u001b[39m\u001b[32m35\u001b[39m     cur = \u001b[43mconn\u001b[49m\u001b[43m.\u001b[49m\u001b[43mcursor\u001b[49m()\n\u001b[32m     36\u001b[39m     cur.execute(\u001b[33m\"\u001b[39m\u001b[33mSELECT 1\u001b[39m\u001b[33m\"\u001b[39m)\n",
      "\u001b[31mAttributeError\u001b[39m: 'NoneType' object has no attribute 'cursor'",
      "\nDuring handling of the above exception, another exception occurred:\n",
      "\u001b[31mUnboundLocalError\u001b[39m                         Traceback (most recent call last)",
      "\u001b[36mCell\u001b[39m\u001b[36m \u001b[39m\u001b[32mIn[5]\u001b[39m\u001b[32m, line 29\u001b[39m\n\u001b[32m     25\u001b[39m             conn.close()\n\u001b[32m     28\u001b[39m conn = dbconnection.open_connection_to_db()\n\u001b[32m---> \u001b[39m\u001b[32m29\u001b[39m \u001b[43mdbconnection\u001b[49m\u001b[43m.\u001b[49m\u001b[43mtest_connection\u001b[49m\u001b[43m(\u001b[49m\u001b[43mconn\u001b[49m\u001b[43m)\u001b[49m\n\u001b[32m     30\u001b[39m view_my_data(conn)\n",
      "\u001b[36mFile \u001b[39m\u001b[32m~/Documents/vs_code/gsb_570/gsb570/3-Embeddings/dbconnection.py:41\u001b[39m, in \u001b[36mtest_connection\u001b[39m\u001b[34m(conn)\u001b[39m\n\u001b[32m     39\u001b[39m     \u001b[38;5;28mprint\u001b[39m(\u001b[33mf\u001b[39m\u001b[33m\"\u001b[39m\u001b[33mError executing query: \u001b[39m\u001b[38;5;132;01m{\u001b[39;00me\u001b[38;5;132;01m}\u001b[39;00m\u001b[33m\"\u001b[39m)\n\u001b[32m     40\u001b[39m \u001b[38;5;28;01mfinally\u001b[39;00m:\n\u001b[32m---> \u001b[39m\u001b[32m41\u001b[39m     \u001b[38;5;28;01mif\u001b[39;00m \u001b[43mcur\u001b[49m:\n\u001b[32m     42\u001b[39m         cur.close()\n",
      "\u001b[31mUnboundLocalError\u001b[39m: cannot access local variable 'cur' where it is not associated with a value"
     ]
    }
   ],
   "source": [
    "import dbconnection\n",
    "\n",
    "def view_my_data(conn):\n",
    "    try:\n",
    "        cur = conn.cursor()\n",
    "\n",
    "        # SQL statement to delete rows where username is 'bob'\n",
    "        sql = f\"SELECT textattribute1, textattribute2, textattribute3, textattribute4, textattribute5 FROM public.rag WHERE username = 'wli64@calpoly.edu'\"\n",
    "    \n",
    "        # Execute the SQL statement\n",
    "        cur.execute(sql)\n",
    "        rows = cur.fetchall()\n",
    "\n",
    "        # grab the cosine scores so we can compute Z score for narrow article selection\n",
    "        for row in rows:\n",
    "            print(row[0], row[1], row[2], row[3], row[4])\n",
    "    \n",
    "        \n",
    "\n",
    "        \n",
    "    except psycopg2.Error as e:\n",
    "            print(\"An error occurred:\", e)\n",
    "    finally:\n",
    "        if conn:\n",
    "            conn.close()\n",
    "\n",
    "    \n",
    "conn = dbconnection.open_connection_to_db()\n",
    "dbconnection.test_connection(conn)\n",
    "view_my_data(conn)\n"
   ]
  }
 ],
 "metadata": {
  "kernelspec": {
   "display_name": "gsb570env",
   "language": "python",
   "name": "python3"
  },
  "language_info": {
   "codemirror_mode": {
    "name": "ipython",
    "version": 3
   },
   "file_extension": ".py",
   "mimetype": "text/x-python",
   "name": "python",
   "nbconvert_exporter": "python",
   "pygments_lexer": "ipython3",
   "version": "3.12.2"
  }
 },
 "nbformat": 4,
 "nbformat_minor": 5
}
