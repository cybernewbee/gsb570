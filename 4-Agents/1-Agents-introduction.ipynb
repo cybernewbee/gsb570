{
 "cells": [
  {
   "cell_type": "markdown",
   "id": "dff95dd0-f637-4d68-8746-8583fd081426",
   "metadata": {},
   "source": [
    "### Agents\n",
    "Agents will provide a way for us to add additional sources of information that will build on our RAG approach.  We may need to execute code or search different information sources to build a complex context to answer user queries."
   ]
  },
  {
   "cell_type": "markdown",
   "id": "eb0ae526-97d7-40d2-b8df-5a32aa379b53",
   "metadata": {},
   "source": [
    "### Tools"
   ]
  },
  {
   "cell_type": "code",
   "execution_count": 1,
   "id": "1074ae1c-f5d2-45e4-b5ee-09b61258c592",
   "metadata": {},
   "outputs": [],
   "source": [
    "# %pip install langchain_community -q\n",
    "# %pip install tavily-python -q\n",
    "# %pip install python-dotenv -q\n",
    "# %pip install langchainhub -q\n",
    "#%pip install wikibase-rest-api-client mediawikiapi -q\n",
    "#%pip install yfinance\n",
    "#%pip install -U langchain-aws\n",
    "#%pip install --upgrade langchain-aws\n",
    "#%pip install --upgrade langchain-core\n"
   ]
  },
  {
   "cell_type": "markdown",
   "id": "74983e12-a639-4764-8d41-5088e721a21b",
   "metadata": {},
   "source": []
  },
  {
   "cell_type": "code",
   "execution_count": null,
   "id": "7b440d19-08bc-4f7e-be3f-f5f28b77c221",
   "metadata": {},
   "outputs": [
    {
     "name": "stderr",
     "output_type": "stream",
     "text": [
      "USER_AGENT environment variable not set, consider setting it to identify your requests.\n"
     ]
    }
   ],
   "source": [
    "import os\n",
    "import boto3\n",
    "\n",
    "from langchain_community.tools.tavily_search import TavilySearchResults\n",
    "from langchain_community.tools.wikidata.tool import WikidataAPIWrapper, WikidataQueryRun\n",
    "from langchain.utilities.tavily_search import TavilySearchAPIWrapper\n",
    "from langchain.agents import AgentExecutor, create_structured_chat_agent\n",
    "from langchain_community.chat_models import BedrockChat\n",
    "from langchain_core.messages.content_blocks import is_data_content_block\n",
    "from langchain_core.messages import AIMessage, HumanMessage\n",
    "from langchain import hub\n",
    "from dotenv import load_dotenv\n",
    "\n",
    "load_dotenv('/Users/marvinlee/Documents/vs_code/gsb_570/.env')\n",
    "# Create the AWS client for the Bedrock runtime with boto3\n",
    "aws_client = boto3.client(service_name=\"bedrock-runtime\")"
   ]
  },
  {
   "cell_type": "markdown",
   "id": "4030cbbf-2631-4dbf-9d85-e88e848e7de6",
   "metadata": {},
   "source": [
    "### Agent Setup\n",
    "We need three components to make up our agent\n",
    "1) Tools we plan to use to execute respond to input\n",
    "2) LLM we plan to use as our logic executor\n",
    "3) Agent type we plan to use for this use case\n",
    "\n",
    "#### Tavily Search\n",
    "Tavily's Search API is a search engine built specifically for AI agents (LLMs) that LangChain supports as a library import.\n",
    "\n",
    "*Note: This tool requires an API Key that will be loaded in your .env file as follows*.  \n",
    "\n",
    ">TAVILY_API_KEY=tvly-XXXXXXXXXXXXXXXXXXX\n",
    "\n",
    "To exectute this notebook [visit](https://app.tavily.com/) for an API key.\n"
   ]
  },
  {
   "cell_type": "code",
   "execution_count": 2,
   "id": "0d3b04a1-83f0-47a1-b4cc-511d7e960a5e",
   "metadata": {},
   "outputs": [
    {
     "name": "stdout",
     "output_type": "stream",
     "text": [
      "API= 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\n"
     ]
    }
   ],
   "source": [
    "test = os.getenv('TAVILY_API_KEY')\n",
    "print(\"API=\",test)"
   ]
  },
  {
   "cell_type": "code",
   "execution_count": 3,
   "id": "809f62d9-b7f9-4b1a-9aa8-e1c94dcb6a03",
   "metadata": {},
   "outputs": [
    {
     "name": "stderr",
     "output_type": "stream",
     "text": [
      "/var/folders/m1/tx6ck0f962jd1hq4ch5phg_80000gn/T/ipykernel_4056/2159499168.py:15: LangChainDeprecationWarning: The class `BedrockChat` was deprecated in LangChain 0.0.34 and will be removed in 1.0. An updated version of the class exists in the :class:`~langchain-aws package and should be used instead. To use it run `pip install -U :class:`~langchain-aws` and import as `from :class:`~langchain_aws import ChatBedrock``.\n",
      "  llm = BedrockChat(\n",
      "/Users/marvinlee/Documents/vs_code/gsb_570/gsb570env/lib/python3.12/site-packages/langsmith/client.py:280: LangSmithMissingAPIKeyWarning: API key must be provided when using hosted LangSmith API\n",
      "  warnings.warn(\n"
     ]
    }
   ],
   "source": [
    "# 1 Start with a simple web search tool:\n",
    "tools = [TavilySearchResults(max_results=1, TAVILY_API_KEY = os.getenv('TAVILY_API_KEY'))]\n",
    "\n",
    "# 2 LLM, Let's use Claude's Haiku\n",
    "model_id = \"anthropic.claude-3-sonnet-20240229-v1:0\"\n",
    "\n",
    "# Grab our LLM of choice\n",
    "model_kwargs =  { \n",
    "    \"max_tokens\": 2048,\n",
    "    \"temperature\": 0.0,\n",
    "    \"top_k\": 250,\n",
    "    \"top_p\": 0.9,\n",
    "    \"stop_sequences\": [\"\\n\\nHuman\"],\n",
    "}\n",
    "llm = BedrockChat(\n",
    "    client=aws_client,\n",
    "    model_id=model_id,\n",
    "    model_kwargs=model_kwargs,\n",
    ")\n",
    "\n",
    "# Get the prompt to use with our agent\n",
    "# The hub provides sample templates for each agent type\n",
    "prompt = hub.pull(\"hwchase17/structured-chat-agent\")\n",
    "\n",
    "\n",
    "#print(\"Tools:\", tools)\n",
    "#print(\"Prompt\", prompt)\n",
    "\n"
   ]
  },
  {
   "cell_type": "code",
   "execution_count": 4,
   "id": "f4c13852",
   "metadata": {},
   "outputs": [
    {
     "data": {
      "text/plain": [
       "ChatPromptTemplate(input_variables=['agent_scratchpad', 'input', 'tool_names', 'tools'], optional_variables=['chat_history'], input_types={'chat_history': list[typing.Annotated[typing.Union[typing.Annotated[langchain_core.messages.ai.AIMessage, Tag(tag='ai')], typing.Annotated[langchain_core.messages.human.HumanMessage, Tag(tag='human')], typing.Annotated[langchain_core.messages.chat.ChatMessage, Tag(tag='chat')], typing.Annotated[langchain_core.messages.system.SystemMessage, Tag(tag='system')], typing.Annotated[langchain_core.messages.function.FunctionMessage, Tag(tag='function')], typing.Annotated[langchain_core.messages.tool.ToolMessage, Tag(tag='tool')], typing.Annotated[langchain_core.messages.ai.AIMessageChunk, Tag(tag='AIMessageChunk')], typing.Annotated[langchain_core.messages.human.HumanMessageChunk, Tag(tag='HumanMessageChunk')], typing.Annotated[langchain_core.messages.chat.ChatMessageChunk, Tag(tag='ChatMessageChunk')], typing.Annotated[langchain_core.messages.system.SystemMessageChunk, Tag(tag='SystemMessageChunk')], typing.Annotated[langchain_core.messages.function.FunctionMessageChunk, Tag(tag='FunctionMessageChunk')], typing.Annotated[langchain_core.messages.tool.ToolMessageChunk, Tag(tag='ToolMessageChunk')]], FieldInfo(annotation=NoneType, required=True, discriminator=Discriminator(discriminator=<function _get_type at 0x1141b59e0>, custom_error_type=None, custom_error_message=None, custom_error_context=None))]]}, partial_variables={'chat_history': []}, metadata={'lc_hub_owner': 'hwchase17', 'lc_hub_repo': 'structured-chat-agent', 'lc_hub_commit_hash': 'ea510f70a5872eb0f41a4e3b7bb004d5711dc127adee08329c664c6c8be5f13c'}, messages=[SystemMessagePromptTemplate(prompt=PromptTemplate(input_variables=['tool_names', 'tools'], input_types={}, partial_variables={}, template='Respond to the human as helpfully and accurately as possible. You have access to the following tools:\\n\\n{tools}\\n\\nUse a json blob to specify a tool by providing an action key (tool name) and an action_input key (tool input).\\n\\nValid \"action\" values: \"Final Answer\" or {tool_names}\\n\\nProvide only ONE action per $JSON_BLOB, as shown:\\n\\n```\\n{{\\n  \"action\": $TOOL_NAME,\\n  \"action_input\": $INPUT\\n}}\\n```\\n\\nFollow this format:\\n\\nQuestion: input question to answer\\nThought: consider previous and subsequent steps\\nAction:\\n```\\n$JSON_BLOB\\n```\\nObservation: action result\\n... (repeat Thought/Action/Observation N times)\\nThought: I know what to respond\\nAction:\\n```\\n{{\\n  \"action\": \"Final Answer\",\\n  \"action_input\": \"Final response to human\"\\n}}\\n\\nBegin! Reminder to ALWAYS respond with a valid json blob of a single action. Use tools if necessary. Respond directly if appropriate. Format is Action:```$JSON_BLOB```then Observation'), additional_kwargs={}), MessagesPlaceholder(variable_name='chat_history', optional=True), HumanMessagePromptTemplate(prompt=PromptTemplate(input_variables=['agent_scratchpad', 'input'], input_types={}, partial_variables={}, template='{input}\\n\\n{agent_scratchpad}\\n (reminder to respond in a JSON blob no matter what)'), additional_kwargs={})])"
      ]
     },
     "execution_count": 4,
     "metadata": {},
     "output_type": "execute_result"
    }
   ],
   "source": [
    "prompt"
   ]
  },
  {
   "cell_type": "markdown",
   "id": "aa5de280-f4ae-4faf-94b2-84c09c83e8a5",
   "metadata": {},
   "source": [
    "#### Our logic prompt\n",
    "Respond to the human as helpfully and accurately as possible. You have access to the following tools:\n",
    "\n",
    "{tools}\n",
    "\n",
    "Use a json blob to specify a tool by providing an action key (tool name) and an action_input key (tool input).\n",
    "\n",
    "Valid \"action\" values: \"Final Answer\" or {tool_names}\n",
    "\n",
    "Provide only ONE action per $JSON_BLOB, as shown:\n",
    "\n",
    "```\n",
    "\n",
    "{{\n",
    "\n",
    "  \"action\": $TOOL_NAME,\n",
    "\n",
    "  \"action_input\": $INPUT\n",
    "\n",
    "}}\n",
    "\n",
    "```\n",
    "\n",
    "Follow this format:\n",
    "\n",
    "Question: input question to answer\n",
    "\n",
    "Thought: consider previous and subsequent steps\n",
    "\n",
    "Action:\n",
    "\n",
    "```\n",
    "\n",
    "$JSON_BLOB\n",
    "\n",
    "```\n",
    "\n",
    "Observation: action result\n",
    "\n",
    "... (repeat Thought/Action/Observation N times)\n",
    "\n",
    "Thought: I know what to respond\n",
    "\n",
    "Action:\n",
    "\n",
    "```\n",
    "\n",
    "{{\n",
    "\n",
    "  \"action\": \"Final Answer\",\n",
    "\n",
    "  \"action_input\": \"Final response to human\"\n",
    "\n",
    "}}\n",
    "\n",
    "Begin! Reminder to ALWAYS respond with a valid json blob of a single action. Use tools if necessary. Respond directly if appropriate. Format is Action:```$JSON_BLOB```then Observation"
   ]
  },
  {
   "cell_type": "code",
   "execution_count": 5,
   "id": "5a293eeb-62ab-4f6a-a25f-92792e96dbc4",
   "metadata": {},
   "outputs": [
    {
     "name": "stdout",
     "output_type": "stream",
     "text": [
      "\n",
      "\n",
      "\u001b[1m> Entering new AgentExecutor chain...\u001b[0m\n",
      "\u001b[32;1m\u001b[1;3mOkay, let's start by searching for relevant information on the economic impacts of tariffs on US imports:\n",
      "\n",
      "Action:\n",
      "```json\n",
      "{\n",
      "  \"action\": \"tavily_search_results_json\",\n",
      "  \"action_input\": {\n",
      "    \"query\": \"economic impact of tariffs on US imports\"\n",
      "  }\n",
      "}\n",
      "```\n",
      "\u001b[0m\u001b[36;1m\u001b[1;3m[{'title': 'Tariffs: Estimating the Economic Impact of the 2025 Measures and ...', 'url': 'https://www.richmondfed.org/publications/research/economic_brief/2025/eb_25-12', 'content': \"Although these tariffs provided some targeted economic benefits by increasing employment in protected sectors, they ultimately produced a net loss to the U.S. economy. A 2019 working paper found that tariffs generated approximately $51 billion (about 0.27 percent of GDP) in losses for consumers and firms reliant on imported goods, though factoring in job gains within protected industries reduced the net loss to about $7.2 billion, or roughly 0.04 percent of GDP.7\\n7 [...] Between 2018 and 2019, the U.S. imposed tariffs ranging from 10 percent to 25 percent on hundreds of billions of dollars of imports from China. These tariffs significantly disrupted global supply chains, increasing input costs for American businesses and raising consumer prices. The resulting disruptions contributed to a decline in manufacturing employment, heightened investment uncertainty and substantial shifts in global supply chains. Rather than returning production to the U.S., many firms [...] Additionally, although tariffs boosted employment in specific protected sectors, they resulted in a relative employment decline of about 1.8 percent — equivalent to approximately 220,000 jobs lost in industries heavily dependent on imported inputs — as firms faced higher production costs. When accounting for China's retaliatory tariffs on U.S. exports and subsequent economic impacts, a 2024 working paper estimates that the total employment reduction rises to approximately 2.6 percent,\", 'score': 0.84918517}]\u001b[0m\u001b[32;1m\u001b[1;3mAction:\n",
      "```json\n",
      "{\n",
      "  \"action\": \"Final Answer\",\n",
      "  \"action_input\": \"Historically, when tariffs were added to US imports, it had a negative overall economic impact despite some targeted benefits for protected industries. Key impacts included:\n",
      "\n",
      "- Higher costs for US businesses and consumers that relied on imported goods/inputs, leading to reduced economic output and job losses in import-dependent industries. One study estimated a net loss of $7.2 billion or 0.04% of GDP from the 2018-2019 tariffs on China.\n",
      "\n",
      "- Disruptions to global supply chains as companies had to shift sourcing away from tariffed imports. This contributed to declines in manufacturing employment and heightened investment uncertainty.\n",
      "\n",
      "- While tariffs boosted employment in the specific protected domestic industries, the net effect was an estimated 1.8-2.6% decline in overall US employment (220,000-330,000 jobs lost) due to higher costs across many sectors.\n",
      "\n",
      "- Retaliatory tariffs from trade partners like China also negatively impacted US exports and economic growth.\n",
      "\n",
      "So while intended to protect domestic industries, the tariffs ended up having broader negative consequences for the overall US economy by raising costs, disrupting supply chains, and inviting retaliation against US exports.\"\n",
      "}\n",
      "```\u001b[0m\n",
      "\n",
      "\u001b[1m> Finished chain.\u001b[0m\n"
     ]
    },
    {
     "data": {
      "text/plain": [
       "{'input': 'What happened to the economy historically when tariffs were added to US imports?',\n",
       " 'output': 'Historically, when tariffs were added to US imports, it had a negative overall economic impact despite some targeted benefits for protected industries. Key impacts included:\\n\\n- Higher costs for US businesses and consumers that relied on imported goods/inputs, leading to reduced economic output and job losses in import-dependent industries. One study estimated a net loss of $7.2 billion or 0.04% of GDP from the 2018-2019 tariffs on China.\\n\\n- Disruptions to global supply chains as companies had to shift sourcing away from tariffed imports. This contributed to declines in manufacturing employment and heightened investment uncertainty.\\n\\n- While tariffs boosted employment in the specific protected domestic industries, the net effect was an estimated 1.8-2.6% decline in overall US employment (220,000-330,000 jobs lost) due to higher costs across many sectors.\\n\\n- Retaliatory tariffs from trade partners like China also negatively impacted US exports and economic growth.\\n\\nSo while intended to protect domestic industries, the tariffs ended up having broader negative consequences for the overall US economy by raising costs, disrupting supply chains, and inviting retaliation against US exports.'}"
      ]
     },
     "execution_count": 5,
     "metadata": {},
     "output_type": "execute_result"
    }
   ],
   "source": [
    "# 3 Construct the create_structured_chat_agent agent\n",
    "# https://python.langchain.com/v0.1/docs/modules/agents/agent_types/\n",
    "agent = create_structured_chat_agent(llm, tools, prompt)\n",
    "\n",
    "# run the agent\n",
    "# Create an agent executor by passing in the agent and tools\n",
    "agent_executor = AgentExecutor(\n",
    "    agent=agent, tools=tools, verbose=True, handle_parsing_errors=True\n",
    ")\n",
    "\n",
    "agent_executor.invoke({\"input\": \"What happened to the economy historically when tariffs were added to US imports?\"})"
   ]
  },
  {
   "cell_type": "code",
   "execution_count": 8,
   "id": "e9732bf3-0713-4fe5-8004-278588d7e425",
   "metadata": {},
   "outputs": [
    {
     "name": "stdout",
     "output_type": "stream",
     "text": [
      "\n",
      "\n",
      "\u001b[1m> Entering new AgentExecutor chain...\u001b[0m\n",
      "\u001b[32;1m\u001b[1;3m```json\n",
      "{\n",
      "  \"action\": \"tavily_search_results_json\",\n",
      "  \"action_input\": {\n",
      "    \"query\": \"Cybernewbee\"\n",
      "  }\n",
      "}\n",
      "```\n",
      "\u001b[0m\u001b[36;1m\u001b[1;3m[{'title': 'cyberNewbie (@tosinmabinuori) / X', 'url': 'https://twitter.com/tosinmabinuori', 'content': 'Cyber security | SALES AND SERVICE OF HOSPITAL EQUIPMENTS (X-RAY, MRI, CT, CR, ULTRASOUND | Healthcare | Biomedical Engineer | @morzitservices.', 'score': 0.40457857}]\u001b[0m\u001b[32;1m\u001b[1;3m```json\n",
      "{\n",
      "  \"action\": \"Final Answer\",\n",
      "  \"action_input\": \"Based on the search results, it seems 'Cybernewbee' may refer to a Twitter account @tosinmabinuori who describes themselves as being involved in cybersecurity and biomedical engineering. However, without more context about your specific question, it's difficult for me to provide a more detailed response.\"\n",
      "}\n",
      "```\u001b[0m\n",
      "\n",
      "\u001b[1m> Finished chain.\u001b[0m\n"
     ]
    }
   ],
   "source": [
    "response = agent_executor.invoke({\"input\": \"Hi my name is Cybernewbee\"})\n",
    "last_input = response['input']\n",
    "last_output = response['output']"
   ]
  },
  {
   "cell_type": "code",
   "execution_count": 9,
   "id": "b981f475",
   "metadata": {},
   "outputs": [
    {
     "name": "stdout",
     "output_type": "stream",
     "text": [
      "Hi my name is Cybernewbee\n",
      "Based on the search results, it seems 'Cybernewbee' may refer to a Twitter account @tosinmabinuori who describes themselves as being involved in cybersecurity and biomedical engineering. However, without more context about your specific question, it's difficult for me to provide a more detailed response.\n"
     ]
    }
   ],
   "source": [
    "print(last_input)\n",
    "print(last_output)"
   ]
  },
  {
   "cell_type": "markdown",
   "id": "53036bdb-3880-4242-bc63-574ecc1494a9",
   "metadata": {},
   "source": [
    "#### Can agents keep track of our conversation and use the context?\n",
    "If we save the results, LangChain supports chat history"
   ]
  },
  {
   "cell_type": "code",
   "execution_count": 10,
   "id": "b806323a-dc44-46e5-81ca-37d504341262",
   "metadata": {},
   "outputs": [
    {
     "name": "stdout",
     "output_type": "stream",
     "text": [
      "\n",
      "\n",
      "\u001b[1m> Entering new AgentExecutor chain...\u001b[0m\n",
      "\u001b[32;1m\u001b[1;3mAction:\n",
      "```\n",
      "{\n",
      "  \"action\": \"Final Answer\",\n",
      "  \"action_input\": \"I'm afraid I don't actually know your name. As an AI assistant without access to personal information about you, I can only respond based on the context provided in our conversation.\"\n",
      "}\n",
      "```\u001b[0m\n",
      "\n",
      "\u001b[1m> Finished chain.\u001b[0m\n"
     ]
    }
   ],
   "source": [
    "response = agent_executor.invoke({\"input\": \"What's my name?\"})"
   ]
  },
  {
   "cell_type": "code",
   "execution_count": 11,
   "id": "da7e9439-dd24-420d-ad44-4efe719fdcbb",
   "metadata": {},
   "outputs": [
    {
     "name": "stdout",
     "output_type": "stream",
     "text": [
      "\n",
      "\n",
      "\u001b[1m> Entering new AgentExecutor chain...\u001b[0m\n",
      "\u001b[32;1m\u001b[1;3mAction:\n",
      "```\n",
      "{\n",
      "  \"action\": \"Final Answer\",\n",
      "  \"action_input\": \"Your name is Cybernewbee, based on the introduction you provided.\"\n",
      "}\n",
      "```\u001b[0m\n",
      "\n",
      "\u001b[1m> Finished chain.\u001b[0m\n"
     ]
    }
   ],
   "source": [
    "response = agent_executor.invoke({\"input\": \"What's my name?\", \n",
    "                                  \"chat_history\": [\n",
    "                                        HumanMessage(content=last_input),\n",
    "                                        AIMessage(content=last_output),\n",
    "                                                  ],})\n"
   ]
  },
  {
   "cell_type": "markdown",
   "id": "dbd308f4-f31b-42e4-af75-8464037a104e",
   "metadata": {},
   "source": [
    "#### Wiki Data Tool\n",
    "Let's add anther tool and observe how our Agent can use both tools to answer input questions"
   ]
  },
  {
   "cell_type": "code",
   "execution_count": 12,
   "id": "d39400f7-9b7e-43ae-9d5f-30fb8b9f4709",
   "metadata": {},
   "outputs": [
    {
     "name": "stdout",
     "output_type": "stream",
     "text": [
      "\n",
      "\n",
      "\u001b[1m> Entering new AgentExecutor chain...\u001b[0m\n",
      "\u001b[32;1m\u001b[1;3mAction:\n",
      "```json\n",
      "{\n",
      "  \"action\": \"Wikidata\",\n",
      "  \"action_input\": {\n",
      "    \"query\": \"Richard Feynman\"\n",
      "  }\n",
      "}\n",
      "```\n",
      "\u001b[0m\u001b[36;1m\u001b[1;3mResult Q39246:\n",
      "Label: Richard Feynman\n",
      "Description: American theoretical physicist (1918–1988)\n",
      "Aliases: Richard Phillips Feynman, Ofey, Feynman, Dick Feynman, Richard P. Feynman\n",
      "instance of: human\n",
      "country of citizenship: United States\n",
      "occupation: physicist, quantum physicist, inventor, writer, university teacher, percussionist, theoretical physicist, science communicator, politician\n",
      "sex or gender: male\n",
      "date of birth: 1918-05-11\n",
      "date of death: 1988-02-15\n",
      "place of birth: Queens, Far Rockaway\n",
      "educated at: Far Rockaway High School, Massachusetts Institute of Technology, Princeton University\n",
      "employer: Cornell University, California Institute of Technology, Manhattan Project\n",
      "place of death: Los Angeles, UCLA Ronald Reagan Medical Center\n",
      "field of work: quantum electrodynamics, particle physics, physics\n",
      "cause of death: kidney failure, abdominal cancer\n",
      "notable work: “Surely You're Joking, Mr. Feynman!”, The Feynman Lectures on Physics, Feynman diagram, Feynman–Kac formula, Hellmann–Feynman theorem, Cargo Cult Science, The Character of Physical Law, Bethe–Feynman formula, Feynman checkerboard, Feynman parametrization, Feynman point, Feynman slash notation, reverse sprinkler, Feynman-Stueckelberg interpretation, Wheeler–Feynman absorber theory\n",
      "religion or worldview: atheist\n",
      "mother: Lucille Feynman\n",
      "father: Melville Arthur Feynman\n",
      "child: Michelle Feynman\n",
      "doctoral student: George Zweig, Thomas Curtright, Michel Baranger, Al Hibbs, Laurie Brown, Howard Arthur Kabakow, Philip Moss Platzman, Marvin Chester, Koichi Mano, Michael Cohen, Sam M. Berman, Frank Lee Vernon, Jr., Willard Henry Wells, Carl Iddings, Henry Hoyt Hilton, Giovanni Rossi Lomanitz, Finn Ravndal, Elisha R. Huggins, Steven Kenneth Kauffmann, James M. Bardeen, Frank Edward Barnes\n",
      "student: Robert Barro, William Daniel Hillis\n",
      "\n",
      "Result Q8662017:\n",
      "Label: Category:Richard Feynman\n",
      "Description: Wikimedia category\n",
      "instance of: Wikimedia category\u001b[0m\u001b[32;1m\u001b[1;3mAction:\n",
      "```json\n",
      "{\n",
      "  \"action\": \"Final Answer\",\n",
      "  \"action_input\": \"Richard Feynman was an American theoretical physicist who made major contributions to the development of quantum mechanics and quantum electrodynamics. Some key facts about him:\n",
      "\n",
      "- He was born in 1918 in New York and died in 1988 in Los Angeles. \n",
      "- He won the Nobel Prize in Physics in 1965 for his work on quantum electrodynamics.\n",
      "- He worked on the Manhattan Project during World War II to develop the atomic bomb.\n",
      "- He taught at Cornell University and the California Institute of Technology.\n",
      "- He was known for his brilliant mind, eccentric personality, and ability to explain complex physics concepts in simple terms.\n",
      "- He wrote several popular books including 'Surely You're Joking, Mr. Feynman!' which described his life and adventures.\n",
      "- He made important contributions to areas like quantum computing, nanotechnology, and the physics of super fluidity.\n",
      "- He was an influential figure who inspired many students and made physics more accessible to the general public.\"\n",
      "}\n",
      "```\u001b[0m\n",
      "\n",
      "\u001b[1m> Finished chain.\u001b[0m\n"
     ]
    },
    {
     "data": {
      "text/plain": [
       "{'input': 'Who was the historical figure named Richard Feynman?',\n",
       " 'output': \"Richard Feynman was an American theoretical physicist who made major contributions to the development of quantum mechanics and quantum electrodynamics. Some key facts about him:\\n\\n- He was born in 1918 in New York and died in 1988 in Los Angeles. \\n- He won the Nobel Prize in Physics in 1965 for his work on quantum electrodynamics.\\n- He worked on the Manhattan Project during World War II to develop the atomic bomb.\\n- He taught at Cornell University and the California Institute of Technology.\\n- He was known for his brilliant mind, eccentric personality, and ability to explain complex physics concepts in simple terms.\\n- He wrote several popular books including 'Surely You're Joking, Mr. Feynman!' which described his life and adventures.\\n- He made important contributions to areas like quantum computing, nanotechnology, and the physics of super fluidity.\\n- He was an influential figure who inspired many students and made physics more accessible to the general public.\"}"
      ]
     },
     "execution_count": 12,
     "metadata": {},
     "output_type": "execute_result"
    }
   ],
   "source": [
    "# New tool WikiData\n",
    "wikidata = WikidataQueryRun(api_wrapper=WikidataAPIWrapper())\n",
    "# Add WikiData and Search Results\n",
    "tools = [wikidata, TavilySearchResults(max_results=1, TAVILY_API_KEY = os.getenv('TAVILY_API_KEY'))]\n",
    "agent = create_structured_chat_agent(llm, tools, prompt)\n",
    "agent_executor = AgentExecutor(\n",
    "    agent=agent, tools=tools, verbose=True, handle_parsing_errors=True\n",
    ")\n",
    "agent_executor.invoke({\"input\": \"Who was the historical figure named Richard Feynman?\"})"
   ]
  },
  {
   "cell_type": "markdown",
   "id": "45b884f1-62dd-4700-8be0-ca1d58df28fa",
   "metadata": {},
   "source": [
    "Now let's review our original question and see how the agent responds to the query."
   ]
  },
  {
   "cell_type": "code",
   "execution_count": 13,
   "id": "0cdb2da4-953c-423f-9fa7-60fce713dac9",
   "metadata": {},
   "outputs": [
    {
     "name": "stdout",
     "output_type": "stream",
     "text": [
      "\n",
      "\n",
      "\u001b[1m> Entering new AgentExecutor chain...\u001b[0m\n",
      "\u001b[32;1m\u001b[1;3mOkay, let's break this down step-by-step:\n",
      "\n",
      "Action: \n",
      "```json\n",
      "{\n",
      "  \"action\": \"tavily_search_results_json\",\n",
      "  \"action_input\": \"impact of tariffs on US economy\"\n",
      "}\n",
      "```\n",
      "\u001b[0m\u001b[33;1m\u001b[1;3m[{'title': 'Trump Tariffs: The Economic Impact of the Trump Trade War', 'url': 'https://taxfoundation.org/research/all/federal/trump-tariffs-trade-war/', 'content': 'On a conventional basis, before incorporating the negative effects of tariffs on the US economy, we estimate all the tariffs together would increase US federal tax revenue by $2.1 trillion over the next decade. The April 2 “reciprocal” tariffs on the EU and countries excluding Canada, Mexico, and China increase tax revenue by $1.0 trillion, assuming the 90-day pause ends as scheduled. Notably, the tariffs on China, which for most imports are levied at 145 percent, raise comparatively small [...] Many economists have evaluated the consequences of the trade war tariffs on the American economy, with results suggesting the tariffs have raised prices and lowered economic output and employment since the start of the trade war in 2018.', 'score': 0.8706085}]\u001b[0m\u001b[32;1m\u001b[1;3mAction:\n",
      "```json\n",
      "{\n",
      "  \"action\": \"Wikidata\",\n",
      "  \"action_input\": \"Smoot–Hawley Tariff Act\"\n",
      "}\n",
      "```\n",
      "\u001b[0m\u001b[36;1m\u001b[1;3mResult Q1585491:\n",
      "Label: Smoot–Hawley Tariff Act\n",
      "Description: 1930 U.S. trade law placing and raising tariffs on tens of thousands of imports\n",
      "Aliases: Smoot-Hawley Tariff Act, Tariff Act of 1930\n",
      "instance of: Act of Congress in the United States\n",
      "has part(s): Plant Patent Act of 1930\n",
      "country: United States\n",
      "publication date: 1930-03-13\n",
      "\n",
      "Result Q56092954:\n",
      "Label: The Passage of the Smoot-Hawley Tariff Act: Why Did the President Sign the Bill?\n",
      "instance of: scholarly article\n",
      "publication date: 2009-04\u001b[0m\u001b[32;1m\u001b[1;3mAction:\n",
      "```json\n",
      "{\n",
      "  \"action\": \"Final Answer\",\n",
      "  \"action_input\": \"Historically, when tariffs were added to US imports, it often had negative economic consequences. A major example is the Smoot-Hawley Tariff Act of 1930, which raised tariffs on thousands of imported goods. Many economists believe this worsened the Great Depression by raising consumer costs, provoking retaliation from US trade partners, and contracting global trade. More recently, the tariffs imposed by the Trump administration on imports from China and other countries in 2018-2019 are estimated to have raised costs for US businesses and consumers, lowered economic output and employment, and contributed to a slowdown in economic growth, according to analyses by economists and policy organizations.\"\n",
      "}\n",
      "```\u001b[0m\n",
      "\n",
      "\u001b[1m> Finished chain.\u001b[0m\n"
     ]
    },
    {
     "data": {
      "text/plain": [
       "{'input': 'What happened to the economy historically when tariffs were added to US imports?',\n",
       " 'output': 'Historically, when tariffs were added to US imports, it often had negative economic consequences. A major example is the Smoot-Hawley Tariff Act of 1930, which raised tariffs on thousands of imported goods. Many economists believe this worsened the Great Depression by raising consumer costs, provoking retaliation from US trade partners, and contracting global trade. More recently, the tariffs imposed by the Trump administration on imports from China and other countries in 2018-2019 are estimated to have raised costs for US businesses and consumers, lowered economic output and employment, and contributed to a slowdown in economic growth, according to analyses by economists and policy organizations.'}"
      ]
     },
     "execution_count": 13,
     "metadata": {},
     "output_type": "execute_result"
    }
   ],
   "source": [
    "agent_executor.invoke({\"input\": \"What happened to the economy historically when tariffs were added to US imports?\"})"
   ]
  },
  {
   "cell_type": "markdown",
   "id": "babc3d3e-40d1-4914-9ce1-84023fd5f504",
   "metadata": {},
   "source": [
    "#### Homework\n",
    "Use the [langchain tool](https://python.langchain.com/api_reference/community/tools.html) list to find a useful tool other than Wikidata or Tavily to explore what it can do "
   ]
  },
  {
   "cell_type": "code",
   "execution_count": 13,
   "id": "c1367abc-00c9-4ddd-9255-f5fc7a516d2f",
   "metadata": {},
   "outputs": [
    {
     "name": "stdout",
     "output_type": "stream",
     "text": [
      "\n",
      "\n",
      "\u001b[1m> Entering new AgentExecutor chain...\u001b[0m\n"
     ]
    },
    {
     "name": "stderr",
     "output_type": "stream",
     "text": [
      "/Users/marvinlee/Documents/vs_code/gsb_570/gsb570env/lib/python3.12/site-packages/langsmith/client.py:280: LangSmithMissingAPIKeyWarning: API key must be provided when using hosted LangSmith API\n",
      "  warnings.warn(\n"
     ]
    },
    {
     "name": "stdout",
     "output_type": "stream",
     "text": [
      "\u001b[32;1m\u001b[1;3mAction:\n",
      "```\n",
      "{\n",
      "  \"action\": \"tavily_search_results_json\",\n",
      "  \"action_input\": \"economy today\"\n",
      "}\n",
      "```\n",
      "\u001b[0m\u001b[33;1m\u001b[1;3m[{'title': \"Economy | Today's latest from Al Jazeera\", 'url': 'https://www.aljazeera.com/economy/', 'content': 'Trump trade war drives uncertainty across several industries. From carmakers to restaurant chains, companies face financial setbacks amid tariff fears.', 'score': 0.43266314}]\u001b[0m\u001b[32;1m\u001b[1;3m```json\n",
      "{\n",
      "  \"action\": \"tavily_search_results_json\",\n",
      "  \"action_input\": \"us economy news today\"\n",
      "}\n",
      "```\n",
      "\u001b[0m\u001b[33;1m\u001b[1;3m[{'title': 'US economy - Financial Times', 'url': 'https://www.ft.com/us-economy', 'content': 'News and headlines on the state of the US economy. The latest economic data, reports and updates from the US, including budgets and inflation forecasts.', 'score': 0.6601948}]\u001b[0m\u001b[32;1m\u001b[1;3m```json\n",
      "{\n",
      "  \"action\": \"Final Answer\",\n",
      "  \"action_input\": \"Based on the search results, there does not appear to be any major breaking economic news or events in the US today. The results provide general information about the US economy from news sources like the Financial Times and Al Jazeera, but no specific details on significant economic developments happening today.\"\n",
      "}\n",
      "```\u001b[0m\n",
      "\n",
      "\u001b[1m> Finished chain.\u001b[0m\n"
     ]
    },
    {
     "data": {
      "text/plain": [
       "{'input': 'What happened with the economy today?',\n",
       " 'output': 'Based on the search results, there does not appear to be any major breaking economic news or events in the US today. The results provide general information about the US economy from news sources like the Financial Times and Al Jazeera, but no specific details on significant economic developments happening today.'}"
      ]
     },
     "execution_count": 13,
     "metadata": {},
     "output_type": "execute_result"
    }
   ],
   "source": [
    "# Your tool here\n",
    "# 1 Start with a simple web search tool:\n",
    "#tools = -> FIND A GOOD TOOL\n",
    "\n",
    "\n",
    "# 2 LLM, Let's use Claude's Haiku\n",
    "model_id = \"anthropic.claude-3-sonnet-20240229-v1:0\"\n",
    "\n",
    "# Grab our LLM of choice\n",
    "model_kwargs =  { \n",
    "    \"max_tokens\": 2048,\n",
    "    \"temperature\": 0.0,\n",
    "    \"top_k\": 250,\n",
    "    \"top_p\": 0.9,\n",
    "    \"stop_sequences\": [\"\\n\\nHuman\"],\n",
    "}\n",
    "llm = BedrockChat(\n",
    "    client=aws_client,\n",
    "    model_id=model_id,\n",
    "    model_kwargs=model_kwargs,\n",
    ")\n",
    "\n",
    "# Get the prompt to use with our agent\n",
    "# The hub provides sample templates for each agent type\n",
    "prompt = hub.pull(\"hwchase17/structured-chat-agent\")\n",
    "\n",
    "# 3 Construct the create_structured_chat_agent agent\n",
    "# https://python.langchain.com/v0.1/docs/modules/agents/agent_types/\n",
    "agent = create_structured_chat_agent(llm, tools, prompt)\n",
    "\n",
    "# run the agent\n",
    "# Create an agent executor by passing in the agent and tools\n",
    "agent_executor = AgentExecutor(\n",
    "    agent=agent, tools=tools, verbose=True, handle_parsing_errors=True\n",
    ")\n",
    "\n",
    "agent_executor.invoke({\"input\": \"What happened with the economy today?\"})"
   ]
  }
 ],
 "metadata": {
  "kernelspec": {
   "display_name": "gsb570env",
   "language": "python",
   "name": "python3"
  },
  "language_info": {
   "codemirror_mode": {
    "name": "ipython",
    "version": 3
   },
   "file_extension": ".py",
   "mimetype": "text/x-python",
   "name": "python",
   "nbconvert_exporter": "python",
   "pygments_lexer": "ipython3",
   "version": "3.12.2"
  }
 },
 "nbformat": 4,
 "nbformat_minor": 5
}
